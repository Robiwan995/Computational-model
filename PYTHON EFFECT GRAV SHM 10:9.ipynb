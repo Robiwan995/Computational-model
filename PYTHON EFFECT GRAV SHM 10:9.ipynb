{
 "cells": [
  {
   "cell_type": "markdown",
   "metadata": {},
   "source": [
    "# Title: Effect of Gravity on Simple Harmonic Motion\n",
    "\n",
    "## [student name]\n",
    "## PHYS 2230\n",
    "## [due date]"
   ]
  },
  {
   "cell_type": "markdown",
   "metadata": {},
   "source": [
    "The purpose of this simulation is to answer the question: \n",
    "\n",
    "<blockquote>\n",
    "**What is the effect of gravity on simple harmonic motion?**\n",
    "</blockquote>\n",
    "\n",
    "The differential equation of the horizontal mass-on-spring system is: \n",
    "\n",
    "$$\\ddot{x} = \\frac{\\text{d}^2x}{\\text{d}t^2}= -\\frac{k}{m}x(t)$$\n",
    "\n",
    "where $k$ is the spring constant in $\\text{N}/\\text{m}$, $m$ is the mass in $\\text{kg}$, $x(t)$ is the position as a function of time in $\\text{m}$, and $\\ddot{x}$ is the acceleration of the mass in $\\text{m}/\\text{s}^2$.\n",
    "\n",
    "**Q** Write down the differential equation for the vertical mass-on-spring system with gravity included:\n",
    "\n",
    "...\n",
    "\n",
    "When gravity is included:\n",
    "* is the motion still sinusoidal?\n",
    "* is the period affected?"
   ]
  },
  {
   "cell_type": "code",
   "execution_count": null,
   "metadata": {},
   "outputs": [
    {
     "data": {
      "text/html": [
       "<div id=\"glowscript\" class=\"glowscript\"></div>"
      ],
      "text/plain": [
       "<IPython.core.display.HTML object>"
      ]
     },
     "metadata": {},
     "output_type": "display_data"
    },
    {
     "name": "stdout",
     "output_type": "stream",
     "text": [
      "ERROR! Session/line number was not unique in database. History logging moved to new session"
     ]
    },
    {
     "data": {
      "application/javascript": [
       "if (typeof Jupyter !== \"undefined\") { window.__context = { glowscript_container: $(\"#glowscript\").removeAttr(\"id\")};}else{ element.textContent = ' ';}"
      ],
      "text/plain": [
       "<IPython.core.display.Javascript object>"
      ]
     },
     "metadata": {},
     "output_type": "display_data"
    }
   ],
   "source": [
    "import vpython as vp\n",
    "scene = vp.canvas()\n",
    "\n",
    "## SHAPES ##\n",
    "\n",
    "Wall = vp.box(pos = vp.vector(-4, 0, 0),\n",
    "              size = vp.vector(0.1, 2, 2),\n",
    "              texture = vp.textures.wood_old)\n",
    "            \n",
    "#Ceiling = \n",
    "              \n",
    "Bob_H = vp.sphere(color = vp.vector(0, 0, 1),\n",
    "                  pos = Wall.pos + vp.vector(2, 0, 0),\n",
    "                  radius = 0.5,\n",
    "                  mass = 1,\n",
    "                  vel = vp.vector(0, 0, 0),\n",
    "                  acc = vp.vector(0, 0, 0))\n",
    "\n",
    "#Bob_V = \n",
    "                \n",
    "Spring_H = vp.helix(pos = Wall.pos,\n",
    "                    axis = Bob_H.pos - Wall.pos - vp.vector(Bob_H.radius, 0, 0),\n",
    "                    color = vp.vector(1, 1, 0),\n",
    "                    radius = 0.25)\n",
    "\n",
    "#Spring_V \n",
    "                  \n",
    "## PHYSICAL PARAMETERS ##\n",
    "\n",
    "k = 10                    # spring constant for both springs, in N/m\n",
    "g = vp.vector(0, -9.8, 0)    # gravitational field, in N/kg \n",
    "\n",
    "## INITIAL CONDITIONS ##\n",
    "Spring_H.eq_length = vp.mag(Spring_H.axis)\n",
    "initial_stretch = vp.vector(1,0,0)\n",
    "Bob_H.pos = Bob_H.pos + initial_stretch\n",
    "\n",
    "#Spring_V.eq_length = \n",
    "\n",
    "t = 0\n",
    "dt = 0.01\n",
    "\n",
    "## DYNAMICS ##\n",
    "\n",
    "while True:\n",
    "    vp.rate(1 / dt)\n",
    "    \n",
    "    Bob_H.F_net = -k * (Spring_H.axis - (vp.vector(1, 0, 0) * Spring_H.eq_length))\n",
    "    #Bob_V.F_net = \n",
    "    \n",
    "    Bob_H.acc = Bob_H.F_net / Bob_H.mass\n",
    "    #Bob_V.acc = \n",
    "    \n",
    "    Bob_H.vel = Bob_H.vel + Bob_H.acc * dt\n",
    "    #Bob_V.vel = \n",
    "\n",
    "    Bob_H.pos = Bob_H.pos + Bob_H.vel * dt\n",
    "    #Bob_V.pos = \n",
    "    \n",
    "    Spring_H.axis = Bob_H.pos - Wall.pos - vp.vector(Bob_H.radius, 0, 0)\n",
    "    #Spring_V.axis \n",
    "    \n",
    "    t = t + dt\n"
   ]
  },
  {
   "cell_type": "markdown",
   "metadata": {},
   "source": [
    "In conclusion, as a result of viewing the output of this simulation, ..."
   ]
  },
  {
   "cell_type": "code",
   "execution_count": null,
   "metadata": {},
   "outputs": [],
   "source": []
  },
  {
   "cell_type": "code",
   "execution_count": null,
   "metadata": {},
   "outputs": [],
   "source": []
  }
 ],
 "metadata": {
  "kernelspec": {
   "display_name": "Python 2",
   "language": "python",
   "name": "python2"
  },
  "language_info": {
   "codemirror_mode": {
    "name": "ipython",
    "version": 2
   },
   "file_extension": ".py",
   "mimetype": "text/x-python",
   "name": "python",
   "nbconvert_exporter": "python",
   "pygments_lexer": "ipython2",
   "version": "2.7.16"
  }
 },
 "nbformat": 4,
 "nbformat_minor": 2
}
