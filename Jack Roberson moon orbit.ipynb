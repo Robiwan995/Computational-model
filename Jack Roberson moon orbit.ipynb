{
 "cells": [
  {
   "cell_type": "code",
   "execution_count": null,
   "metadata": {},
   "outputs": [],
   "source": [
    "from vpython import *"
   ]
  },
  {
   "cell_type": "code",
   "execution_count": null,
   "metadata": {},
   "outputs": [],
   "source": [
    "G = 6.67e-11 # N*m^2/kg^2\n",
    "E_mass = 5.9e24 #kg\n",
    "M_mass = 7.35e22 #kg\n",
    "scale_factor = 10\n",
    "Moon_vel = 945.5\n",
    "Initial_pos = vector(406377000,0,0)\n",
    "Earth_vel = -(M_mass*Moon_vel/E_mass)\n",
    "Marker_vel = ((M_mass*Moon_vel + E_mass*Earth_vel)/(E_mass + M_mass))"
   ]
  },
  {
   "cell_type": "code",
   "execution_count": null,
   "metadata": {},
   "outputs": [],
   "source": [
    "Earth = sphere(pos = vector(0,0,0),\n",
    "              vel = vector(0,0,0),\n",
    "              radius = 6.3e6*scale_factor,\n",
    "              mass = Earth_mass,\n",
    "              texture=textures.earth,\n",
    "              make_trail = True)\n",
    "moon = sphere(pos = vector(-3.84e8, 0,0),\n",
    "             vel = vector(0,0,0),\n",
    "             radius = 1.74e6*scale_factor, \n",
    "             mass = moon_mass,\n",
    "             make_trail = True)\n",
    "Moon_Apogee = sphere(pos= vector(406377000,0,0),\n",
    "                     vel = vector(0,Marker_vel,0),\n",
    "                     color = color.blue,\n",
    "                     radius= Moon.radius)\n",
    "Moon_Perigee = sphere(pos= vector(-356761000,0,0),\n",
    "                      vel = vector(0,Marker_vel,0),\n",
    "                      color = color.red,\n",
    "                      radius= Moon.radius)"
   ]
  },
  {
   "cell_type": "code",
   "execution_count": null,
   "metadata": {},
   "outputs": [],
   "source": [
    "r = Earth.pos - Moon.pos\n",
    "rhat = norm(r)\n",
    "Fe = -G*E_mass*M_mass*rhat/mag(r)**2\n",
    "Fm = G*E_mass*M_mass*rhat/mag(r)**2\n",
    "graph(xtitle=\"Time in Days\",ytitle=\"Distance to Moon in Meters\")\n",
    "Orbit_graph = gcurve(color=color.orange,label=\"Orbit\")\n",
    "\n",
    "graph(xtitle=\"Time in Days\",ytitle=\"Energy in Joules\")\n",
    "TotE_graph = gcurve(color=color.blue,label=\"Total Energy\")\n",
    "KE_graph = gcurve(color=color.red,label=\"Kinetic Energy\")\n",
    "PE_graph = gcurve(color=color.orange,label=\"Potential Energy\")\n",
    "\n",
    "graph(xtitle=\"Time in Days\",ytitle=\"Angular Momentum\",ymax=0,ymin=-3e34)\n",
    "Ang_graph = gcurve(color=color.blue,label=\"Angular Momentum\")"
   ]
  },
  {
   "cell_type": "code",
   "execution_count": null,
   "metadata": {},
   "outputs": [],
   "source": [
    "t = 0\n",
    "dt = 60\n",
    "while mag(Earth.pos - moon.pos) > Earth.radius + moon.radius:\n",
    "    rate(200)\n",
    "    \n",
    "    r = Earth.pos - moon.pos\n",
    "    rhat = norm(r)\n",
    "    \n",
    "    F_e = -G*Earth.mass*moon.mass*rhat/mag(r)**2\n",
    "    F_m = G*Earth.mass*moon.mass*rhat/mag(r)**2\n",
    "    \n",
    "    Earth.vel = Earth.vel + (F_e/Earth.mass) * dt\n",
    "    moon.vel = moon.vel + (F_m/moon.mass) * dt\n",
    "    \n",
    "    Earth.pos = Earth.pos + Earth.vel * dt\n",
    "    moon.pos = moon.pos + moon.vel * dt\n",
    "    \n",
    "    t = t + dt\n",
    "    \n",
    "    pos_graph.plot(t, mag(r))\n",
    "    radiisum.plot(t, Earth.radius + moon.radius)"
   ]
  },
  {
   "cell_type": "code",
   "execution_count": null,
   "metadata": {},
   "outputs": [],
   "source": [
    "t = 0 \n",
    "dt = 600\n",
    "a = True\n",
    "b = True\n",
    "c = True\n",
    "while mag(Earth.pos-Moon.pos) > Earth.radius + Moon.radius:\n",
    "    rate(200)\n",
    "    r = Earth.pos - Moon.pos\n",
    "    rhat = norm(r)\n",
    "    \n",
    "    Fe = -G*E_mass*M_mass*rhat/mag(r)**2\n",
    "    Fm = G*E_mass*M_mass*rhat/mag(r)**2\n",
    "    \n",
    "    Earth.vel = Earth.vel + (Fe/E_mass) * dt\n",
    "    Moon.vel = Moon.vel + (Fm/M_mass) * dt\n",
    "    \n",
    "    Earth.pos = Earth.pos + Earth.vel * dt\n",
    "    Moon.pos = Moon.pos + Moon.vel * dt\n",
    "    r = Earth.pos - Moon.pos\n",
    "    \n",
    "    Moon_Perigee.pos = Moon_Perigee.pos + Moon_Perigee.vel*dt\n",
    "    Moon_Apogee.pos = Moon_Apogee.pos + Moon_Apogee.vel*dt\n",
    "    \n",
    "    Moon_ang = cross(Moon.vel*M_mass,Moon.pos).z\n",
    "    Earth_ang = cross(Earth.vel*E_mass,Earth.pos).z\n",
    "    Tot_ang = Moon_ang + Earth_ang\n",
    "    \n",
    "    Moon_KE = 0.5*M_mass*mag(Moon.vel)**2\n",
    "    Earth_KE = 0.5*E_mass*mag(Earth.vel)**2\n",
    "    Tot_KE = Moon_KE + Earth_KE\n",
    "    \n",
    "    Tot_PE = -G*E_mass*M_mass/mag(r)\n",
    "    \n",
    "    Tot_E = Tot_KE + Tot_PE\n",
    "    accepted_orbit = 27.32\n",
    "    accepted_perigee = 356761000\n",
    "    if mag(r) >= 406378000 and (t/(60*60*24)) > 90 and d == True:\n",
    "        print('The time it takes for Moon to orbit the Earth the fourth time is {0} days'.format((t/(60*60*24))-Third_orbit))\n",
    "        d = False\n",
    "    if mag(r) >= 406378000 and (t/(60*60*24)) > 60 and c == True:\n",
    "        print('The time it takes for Moon to orbit the Earth the third time is {0} days'.format((t/(60*60*24))-Second_orbit))\n",
    "        Third_orbit = (t/(60*60*24))\n",
    "        c = False\n",
    "    t = t + dt\n",
    "    Orbit_graph.plot(t/(60*60*24),mag(r))\n",
    "    TotE_graph.plot(t/(60*60*24),Tot_E)\n",
    "    KE_graph.plot(t/(60*60*24),Tot_KE)\n",
    "    PE_graph.plot(t/(60*60*24),Tot_PE)\n",
    "    "
   ]
  },
  {
   "cell_type": "code",
   "execution_count": null,
   "metadata": {},
   "outputs": [],
   "source": [
    "I IMPORTED THE ASSIGNMENT FROM EARTH/MON COLLISION AND LOOKED AT THE EXCEL FILE FOR\n",
    "THE ORBIT PROJECT. SOME CHANGES WERE MADE TO THE LAST ASSIGNMENT BECAUSE WE HAD TO ACCOUNT \n",
    "FOR THE CONSTANT ORBIT. ALSO SOME VECTOR COMPONENTS WERE CHANGED. I HAD TROUBLE WITH THE ORBIT, PARTICULARLY WITH\n",
    "PERIGEE AND APOGEE INTEGRATION INTO THE CODE. i HAD IT RUNNING WELL AT FIRST BUT THEN SOMEHOW SOME \n",
    "OF THE LINES GOT TAKEN OUT AND I COULDNT FIGURE OUT HOW TO GET IT UP AND RUNNING AGAIN."
   ]
  },
  {
   "cell_type": "code",
   "execution_count": null,
   "metadata": {},
   "outputs": [],
   "source": []
  },
  {
   "cell_type": "code",
   "execution_count": null,
   "metadata": {},
   "outputs": [],
   "source": []
  }
 ],
 "metadata": {
  "kernelspec": {
   "display_name": "VPython",
   "language": "python",
   "name": "vpython"
  },
  "language_info": {
   "codemirror_mode": {
    "name": "ipython",
    "version": 3
   },
   "file_extension": ".py",
   "mimetype": "text/x-python",
   "name": "python",
   "nbconvert_exporter": "python",
   "pygments_lexer": "ipython3",
   "version": "3.7.3"
  }
 },
 "nbformat": 4,
 "nbformat_minor": 2
}
