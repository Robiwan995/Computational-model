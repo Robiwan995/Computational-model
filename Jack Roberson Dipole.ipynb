{
 "cells": [
  {
   "cell_type": "code",
   "execution_count": 1,
   "metadata": {},
   "outputs": [
    {
     "data": {
      "text/html": [
       "<div id=\"glowscript\" class=\"glowscript\"></div>"
      ],
      "text/plain": [
       "<IPython.core.display.HTML object>"
      ]
     },
     "metadata": {},
     "output_type": "display_data"
    },
    {
     "data": {
      "application/javascript": [
       "if (typeof Jupyter !== \"undefined\") { window.__context = { glowscript_container: $(\"#glowscript\").removeAttr(\"id\")};}else{ element.textContent = ' ';}"
      ],
      "text/plain": [
       "<IPython.core.display.Javascript object>"
      ]
     },
     "metadata": {},
     "output_type": "display_data"
    }
   ],
   "source": [
    "from vpython import *"
   ]
  },
  {
   "cell_type": "code",
   "execution_count": 2,
   "metadata": {},
   "outputs": [],
   "source": [
    "# fundamental constants\n",
    "\n",
    "e = 1.6e-19 # coulombs\n",
    "oofpez = 9e9 # Nm^2/C^2\n",
    "scale_factor = 8e-35"
   ]
  },
  {
   "cell_type": "code",
   "execution_count": 3,
   "metadata": {},
   "outputs": [
    {
     "data": {
      "application/javascript": [
       "if (typeof Jupyter !== \"undefined\") {require.undef(\"nbextensions/vpython_libraries/glow.min\");}else{element.textContent = ' ';}"
      ],
      "text/plain": [
       "<IPython.core.display.Javascript object>"
      ]
     },
     "metadata": {},
     "output_type": "display_data"
    },
    {
     "data": {
      "application/javascript": [
       "if (typeof Jupyter !== \"undefined\") {require.undef(\"nbextensions/vpython_libraries/glowcomm\");}else{element.textContent = ' ';}"
      ],
      "text/plain": [
       "<IPython.core.display.Javascript object>"
      ]
     },
     "metadata": {},
     "output_type": "display_data"
    },
    {
     "data": {
      "application/javascript": [
       "if (typeof Jupyter !== \"undefined\") {require.undef(\"nbextensions/vpython_libraries/jquery-ui.custom.min\");}else{element.textContent = ' ';}"
      ],
      "text/plain": [
       "<IPython.core.display.Javascript object>"
      ]
     },
     "metadata": {},
     "output_type": "display_data"
    },
    {
     "data": {
      "application/javascript": [
       "if (typeof Jupyter !== \"undefined\") {require([\"nbextensions/vpython_libraries/glow.min\"], function(){console.log(\"GLOW LOADED\");});}else{element.textContent = ' ';}"
      ],
      "text/plain": [
       "<IPython.core.display.Javascript object>"
      ]
     },
     "metadata": {},
     "output_type": "display_data"
    },
    {
     "data": {
      "application/javascript": [
       "if (typeof Jupyter !== \"undefined\") {require([\"nbextensions/vpython_libraries/glowcomm\"], function(){console.log(\"GLOWCOMM LOADED\");});}else{element.textContent = ' ';}"
      ],
      "text/plain": [
       "<IPython.core.display.Javascript object>"
      ]
     },
     "metadata": {},
     "output_type": "display_data"
    },
    {
     "data": {
      "application/javascript": [
       "if (typeof Jupyter !== \"undefined\") {require([\"nbextensions/vpython_libraries/jquery-ui.custom.min\"], function(){console.log(\"JQUERY LOADED\");});}else{element.textContent = ' ';}"
      ],
      "text/plain": [
       "<IPython.core.display.Javascript object>"
      ]
     },
     "metadata": {},
     "output_type": "display_data"
    }
   ],
   "source": [
    "proton = sphere(pos=vector(0,0,0),\n",
    "               radius = 1e-15,\n",
    "               q = +e,\n",
    "               color = color.red)\n",
    "anti_proton = sphere(pos=vector(-2.5e-15,0,0),\n",
    "                    radius = 1e-15,\n",
    "                    q = -e,\n",
    "                    color = color.blue)\n",
    "charge_set = [anti_proton, proton]"
   ]
  },
  {
   "cell_type": "code",
   "execution_count": 4,
   "metadata": {},
   "outputs": [],
   "source": [
    "R = 5e-15\n",
    "theta = 0\n",
    "dtheta = pi/6\n",
    "while R<11e-5:\n",
    "    while theta<2*pi:\n",
    "        rate(200)\n",
    "        obs_loc = vector(R*cos(theta), R*sin(theta),0)\n",
    "        Enet = vector(1.75e-15,0,0)\n",
    "        theta = theta + dtheta\n",
    "        for particle in charge_set:\n",
    "            \n",
    "            r = obs_loc - particle.pos\n",
    "            rhat = r/mag(r)\n",
    "            E = oofpez*particle.q*rhat/mag(r)**2\n",
    "            Enet = Enet + E\n",
    "        E_arrow = arrow(pos=obs_loc,\n",
    "                        axis = Enet*scale_factor,\n",
    "                        color = color.magenta)\n",
    "    \n",
    "    R=R*2"
   ]
  },
  {
   "cell_type": "code",
   "execution_count": 5,
   "metadata": {},
   "outputs": [],
   "source": [
    "# I had to define an anti-proton in the dipole code with an opposite charge and revised \n",
    "# position vector so it is at a different location.  I tried running the code but it looked \n",
    "# the same as the original proton electric field code so I then changed the for loop to account\n",
    "# for both anti-proton and proton, switching “for proton” to “for particle”. I also added in \n",
    "# the anti-proton to the charge_set. Something went wrong with the placement of the while loop \n",
    "# and for loop components. Multiple anti-protons were appearing next to the proton and the \n",
    "# arrows were overlapping each other. I attempted to include the arrow vector in the first \n",
    "# while loop but that did not solve the issue. I could not diagnose the problem in my code \n",
    "# in the end but will address. [CONTINUED ON 10/24] After reopening my jupyter notebook file,\n",
    "# the program is running in a different way. I took dtheta out of the second while loop and \n",
    "# added in the arrow into second while loop so the vector field shows appropriate amount of arrows. "
   ]
  },
  {
   "cell_type": "code",
   "execution_count": null,
   "metadata": {},
   "outputs": [],
   "source": []
  }
 ],
 "metadata": {
  "kernelspec": {
   "display_name": "Python 3",
   "language": "python",
   "name": "python3"
  },
  "language_info": {
   "codemirror_mode": {
    "name": "ipython",
    "version": 3
   },
   "file_extension": ".py",
   "mimetype": "text/x-python",
   "name": "python",
   "nbconvert_exporter": "python",
   "pygments_lexer": "ipython3",
   "version": "3.7.3"
  }
 },
 "nbformat": 4,
 "nbformat_minor": 2
}
