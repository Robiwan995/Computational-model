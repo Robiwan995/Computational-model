{
 "cells": [
  {
   "cell_type": "code",
   "execution_count": 1,
   "metadata": {
    "scrolled": false
   },
   "outputs": [
    {
     "data": {
      "text/html": [
       "<div id=\"glowscript\" class=\"glowscript\"></div>"
      ],
      "text/plain": [
       "<IPython.core.display.HTML object>"
      ]
     },
     "metadata": {},
     "output_type": "display_data"
    },
    {
     "data": {
      "application/javascript": [
       "if (typeof Jupyter !== \"undefined\") { window.__context = { glowscript_container: $(\"#glowscript\").removeAttr(\"id\")};}else{ element.textContent = ' ';}"
      ],
      "text/plain": [
       "<IPython.core.display.Javascript object>"
      ]
     },
     "metadata": {},
     "output_type": "display_data"
    }
   ],
   "source": [
    "from vpython import *"
   ]
  },
  {
   "cell_type": "code",
   "execution_count": 2,
   "metadata": {},
   "outputs": [],
   "source": [
    "# constants\n",
    "G = 6.67e-11\n",
    "Earth_mass = 5.9e24\n",
    "moon_mass = 7.35e22\n",
    "scale_factor = 1"
   ]
  },
  {
   "cell_type": "code",
   "execution_count": 3,
   "metadata": {},
   "outputs": [
    {
     "data": {
      "application/javascript": [
       "if (typeof Jupyter !== \"undefined\") {require.undef(\"nbextensions/vpython_libraries/glow.min\");}else{element.textContent = ' ';}"
      ],
      "text/plain": [
       "<IPython.core.display.Javascript object>"
      ]
     },
     "metadata": {},
     "output_type": "display_data"
    },
    {
     "data": {
      "application/javascript": [
       "if (typeof Jupyter !== \"undefined\") {require.undef(\"nbextensions/vpython_libraries/glowcomm\");}else{element.textContent = ' ';}"
      ],
      "text/plain": [
       "<IPython.core.display.Javascript object>"
      ]
     },
     "metadata": {},
     "output_type": "display_data"
    },
    {
     "data": {
      "application/javascript": [
       "if (typeof Jupyter !== \"undefined\") {require.undef(\"nbextensions/vpython_libraries/jquery-ui.custom.min\");}else{element.textContent = ' ';}"
      ],
      "text/plain": [
       "<IPython.core.display.Javascript object>"
      ]
     },
     "metadata": {},
     "output_type": "display_data"
    },
    {
     "data": {
      "application/javascript": [
       "if (typeof Jupyter !== \"undefined\") {require([\"nbextensions/vpython_libraries/glow.min\"], function(){console.log(\"GLOW LOADED\");});}else{element.textContent = ' ';}"
      ],
      "text/plain": [
       "<IPython.core.display.Javascript object>"
      ]
     },
     "metadata": {},
     "output_type": "display_data"
    },
    {
     "data": {
      "application/javascript": [
       "if (typeof Jupyter !== \"undefined\") {require([\"nbextensions/vpython_libraries/glowcomm\"], function(){console.log(\"GLOWCOMM LOADED\");});}else{element.textContent = ' ';}"
      ],
      "text/plain": [
       "<IPython.core.display.Javascript object>"
      ]
     },
     "metadata": {},
     "output_type": "display_data"
    },
    {
     "data": {
      "application/javascript": [
       "if (typeof Jupyter !== \"undefined\") {require([\"nbextensions/vpython_libraries/jquery-ui.custom.min\"], function(){console.log(\"JQUERY LOADED\");});}else{element.textContent = ' ';}"
      ],
      "text/plain": [
       "<IPython.core.display.Javascript object>"
      ]
     },
     "metadata": {},
     "output_type": "display_data"
    }
   ],
   "source": [
    "Earth = sphere(pos = vector(0,0,0),\n",
    "              vel = vector(0,0,0),\n",
    "              radius = 6.3e6*scale_factor,\n",
    "              mass = Earth_mass,\n",
    "              texture=textures.earth)\n",
    "moon = sphere(pos = vector(-3.84e8, 0,0),\n",
    "             vel = vector(0,0,0),\n",
    "             radius = 1.74e6*scale_factor, \n",
    "             mass = moon_mass)"
   ]
  },
  {
   "cell_type": "code",
   "execution_count": 4,
   "metadata": {},
   "outputs": [],
   "source": [
    "r = Earth.pos - moon.pos\n",
    "rhat = norm(r)\n",
    "\n",
    "graph(xtitle = 'time', ytitle = 'distance')\n",
    "pos_graph = gcurve(label = 'center-to-center distance',\n",
    "                  color = color.orange)\n",
    "radiisum = gcurve(label = 'radii sum', color = color.blue)\n",
    "            \n",
    "\n",
    "F = -G*Earth.mass*moon.mass*rhat/mag(r)**2\n",
    "scale_factor2 = mag(r)/mag(F)\n",
    "force_arrow = arrow(pos = moon.pos,\n",
    "                   axis = F*scale_factor2,\n",
    "                   color=color.black)"
   ]
  },
  {
   "cell_type": "code",
   "execution_count": 5,
   "metadata": {},
   "outputs": [],
   "source": [
    "t = 0\n",
    "dt = 60\n",
    "while mag(Earth.pos - moon.pos) > Earth.radius + moon.radius:\n",
    "    rate(200)\n",
    "    \n",
    "    r = Earth.pos - moon.pos\n",
    "    rhat = norm(r)\n",
    "    \n",
    "    F_e = -G*Earth.mass*moon.mass*rhat/mag(r)**2\n",
    "    F_m = G*Earth.mass*moon.mass*rhat/mag(r)**2\n",
    "    \n",
    "    Earth.vel = Earth.vel + (F_e/Earth.mass) * dt\n",
    "    moon.vel = moon.vel + (F_m/moon.mass) * dt\n",
    "    \n",
    "    Earth.pos = Earth.pos + Earth.vel * dt\n",
    "    moon.pos = moon.pos + moon.vel * dt\n",
    "    \n",
    "    t = t + dt\n",
    "    \n",
    "    pos_graph.plot(t, mag(r))\n",
    "    radiisum.plot(t, Earth.radius + moon.radius)\n",
    "    "
   ]
  },
  {
   "cell_type": "code",
   "execution_count": 6,
   "metadata": {},
   "outputs": [
    {
     "name": "stdout",
     "output_type": "stream",
     "text": [
      "<9858.63, 0, 0>\n"
     ]
    }
   ],
   "source": [
    "print(moon.vel)"
   ]
  },
  {
   "cell_type": "code",
   "execution_count": 7,
   "metadata": {},
   "outputs": [
    {
     "name": "stdout",
     "output_type": "stream",
     "text": [
      "the time it takes the moon to collide with the earth is (0)\n"
     ]
    }
   ],
   "source": [
    "print('the time it takes the moon to collide with the earth is (0)' .format(t/(60*60*60*24))) "
   ]
  },
  {
   "cell_type": "code",
   "execution_count": 8,
   "metadata": {},
   "outputs": [],
   "source": [
    "# To solve the time it takes the moon and earth to collide, \n",
    "# we first define the body mass constants, gravitational constants, \n",
    "# and scale factor. Next, the initial position, radius, velcity values \n",
    "# are assigned for both earth and moon. The initial condition of moon position \n",
    "# will be an x-value vector and earth position is zero so the moon is relative to \n",
    "# earth by the measured distance value. The while loop includes the distance between \n",
    "# the earth and moon defined as r = Earth.pos - moon.pos. The gravitational forces of \n",
    "# the earth and the moon are calculated using Newton's formula, and are oppositely charged\n",
    "# because the force is attractive and the bodies are moving toward each other. The moon is \n",
    "# moving in the positive direction and earth is negative direction because we define the \n",
    "# moon's position to the left of the earth. We define the position calculation first using \n",
    "# numerical integration technique and defining acceleration as the force/mass. There was some \n",
    "# confusion with which values to include in the while loop to enable the bodies to move toward\n",
    "# each other. The position was defined using the velocity value and position value with dt, \n",
    "# which is defined as 60. Since the units of force are in kg*m*s^-2, the unit of time is in seconds.\n",
    "# The first statement in the while loop allows the calculations to run as long as the \\\n",
    "# difference in the earth/moon position is greater than the sum of the radii, or until the moon\n",
    "# and earth collide. "
   ]
  },
  {
   "cell_type": "code",
   "execution_count": null,
   "metadata": {},
   "outputs": [],
   "source": []
  },
  {
   "cell_type": "code",
   "execution_count": null,
   "metadata": {},
   "outputs": [],
   "source": []
  }
 ],
 "metadata": {
  "kernelspec": {
   "display_name": "VPython",
   "language": "python",
   "name": "vpython"
  },
  "language_info": {
   "codemirror_mode": {
    "name": "ipython",
    "version": 3
   },
   "file_extension": ".py",
   "mimetype": "text/x-python",
   "name": "python",
   "nbconvert_exporter": "python",
   "pygments_lexer": "ipython3",
   "version": "3.7.3"
  }
 },
 "nbformat": 4,
 "nbformat_minor": 2
}
