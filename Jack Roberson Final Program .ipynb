{
 "cells": [
  {
   "cell_type": "code",
   "execution_count": 1,
   "metadata": {
    "scrolled": false
   },
   "outputs": [
    {
     "data": {
      "text/html": [
       "<div id=\"glowscript\" class=\"glowscript\"></div>"
      ],
      "text/plain": [
       "<IPython.core.display.HTML object>"
      ]
     },
     "metadata": {},
     "output_type": "display_data"
    },
    {
     "data": {
      "application/javascript": [
       "if (typeof Jupyter !== \"undefined\") { window.__context = { glowscript_container: $(\"#glowscript\").removeAttr(\"id\")};}else{ element.textContent = ' ';}"
      ],
      "text/plain": [
       "<IPython.core.display.Javascript object>"
      ]
     },
     "metadata": {},
     "output_type": "display_data"
    }
   ],
   "source": [
    "from vpython import *      #1.1"
   ]
  },
  {
   "cell_type": "code",
   "execution_count": null,
   "metadata": {},
   "outputs": [],
   "source": [
    "ygraph = graph(width = 500, height = 200,                     #4.1\n",
    "             title = 'Ball Height',                         #4.4\n",
    "             xtitle = 'Time',ytitle = 'Height',             #4.3\n",
    "             legend = True)                                 #4.5\n",
    "bounce1 = gcurve(color = color.green,label = \"Ball Height\")  #4.6"
   ]
  },
  {
   "cell_type": "code",
   "execution_count": null,
   "metadata": {},
   "outputs": [],
   "source": [
    "g = 9.81                                      #2.1\n",
    "rho = 1.25 \n",
    "Cd = 0.05 \n",
    "wall = box(pos = vector(0,0,0),                          #3.1\n",
    "           size = vector(400,0.2,10))                   #3.5\n",
    "wallR = box(pos = vector(200,0,0),                      #3.4\n",
    "           size = vector(.1,100,40))   \n",
    "wallL = box(pos = vector(-200,0,0),\n",
    "           size = vector(.1,100,40))\n",
    "ball_angle = 45*3.14159/180\n",
    "ball_speed = 30\n",
    "ball = sphere(pos = vector(0,30,0),\n",
    "             radius = 2.0,\n",
    "             color = color.cyan,\n",
    "             make_trail = True,\n",
    "             mass = 3,                                        #3.2\n",
    "             vel = vector(ball_speed*cos(ball_angle),         #2.3\n",
    "                          ball_speed*sin(ball_angle),0)) \n",
    "A_cross = pi*(ball.radius**2)/100\n",
    "dt = 0.01\n",
    "t = 0\n",
    "c = 0\n",
    "while True: #8.5,8.4\n",
    "    rate(100)\n",
    "    \n",
    "    F_drag_x = -0.5*rho*Cd*A_cross*(ball.vel.x**2+ball.vel.y**2)*(ball.vel.x/(sqrt(ball.vel.x**2+ball.vel.y**2)))\n",
    "    F_drag_y = -0.5*rho*Cd*A_cross*(ball.vel.x**2+ball.vel.y**2)*(ball.vel.y/(sqrt(ball.vel.x**2+ball.vel.y**2)))\n",
    "    F_mg = (ball.mass*(-g))                                    #11.1,11.2\n",
    "    F_net_y = F_drag_y + F_mg\n",
    "              \n",
    "    ball_acc_x = F_drag_x/ball.mass                         \n",
    "    ball_acc_y = F_net_y/ball.mass \n",
    "    \n",
    "    ball.vel.x = ball.vel.x + ball_acc_x*dt                             #10.3\n",
    "    ball.vel.y = ball.vel.y + ball_acc_y*dt\n",
    "    \n",
    "    ball.pos.x = ball.pos.x + ball.vel.x*dt                    #3.3\n",
    "    ball.pos.y = ball.pos.y + ball.vel.y*dt\n",
    "       \n",
    "    if ball.pos.y - ball.radius <= wall.pos.y:                  #9.3,9.1\n",
    "        ball.vel.y = -ball.vel.y\n",
    "    if ball.pos.x + ball.radius >= wallR.pos.x and c < 5 or ball.pos.x - ball.radius <= wallL.pos.x and c < 5:\n",
    "        ball.vel.x = -ball.vel.x                                #9.4 , 9.2 ^^\n",
    "        c = c + 1 \n",
    "    t = t + dt                         #2.2\n",
    "        \n",
    "    \n",
    "    bounce1.plot(t,ball.pos.y) \n",
    "\n"
   ]
  },
  {
   "cell_type": "markdown",
   "metadata": {},
   "source": [
    "This project consisted of defining a ball with a certain mass, and initial velocity that has x and y components, which are calculated individually and placed in the ball.vel attribute. I defined the drag force in the x and y direction and updated the x and y accelerations by dividing the drag by the ball mass. The velocity is updated according to the acceleration with drag factored in and subsequently the position with the midified velocity factored in. The last two if statements serve to get the ball to bounce off of the ground, and the two walls which will bounce less that 5 times using the c variable. "
   ]
  },
  {
   "cell_type": "markdown",
   "metadata": {},
   "source": [
    "THIS BEGINS PROGRAM #2"
   ]
  },
  {
   "cell_type": "code",
   "execution_count": 2,
   "metadata": {},
   "outputs": [],
   "source": [
    "Om = 2              \n",
    "k = 4    \n",
    "Z = 100\n",
    "w = 10\n",
    "t = 0\n",
    "dt = 0.01"
   ]
  },
  {
   "cell_type": "markdown",
   "metadata": {},
   "source": [
    "These are constants, Om is omega and k is the constant in the wave equation. Z is the number of vector components that will be present and z is the range in the x direction."
   ]
  },
  {
   "cell_type": "code",
   "execution_count": 3,
   "metadata": {},
   "outputs": [
    {
     "data": {
      "application/javascript": [
       "if (typeof Jupyter !== \"undefined\") {require.undef(\"nbextensions/vpython_libraries/glow.min\");}else{element.textContent = ' ';}"
      ],
      "text/plain": [
       "<IPython.core.display.Javascript object>"
      ]
     },
     "metadata": {},
     "output_type": "display_data"
    },
    {
     "data": {
      "application/javascript": [
       "if (typeof Jupyter !== \"undefined\") {require.undef(\"nbextensions/vpython_libraries/glowcomm\");}else{element.textContent = ' ';}"
      ],
      "text/plain": [
       "<IPython.core.display.Javascript object>"
      ]
     },
     "metadata": {},
     "output_type": "display_data"
    },
    {
     "data": {
      "application/javascript": [
       "if (typeof Jupyter !== \"undefined\") {require.undef(\"nbextensions/vpython_libraries/jquery-ui.custom.min\");}else{element.textContent = ' ';}"
      ],
      "text/plain": [
       "<IPython.core.display.Javascript object>"
      ]
     },
     "metadata": {},
     "output_type": "display_data"
    },
    {
     "data": {
      "application/javascript": [
       "if (typeof Jupyter !== \"undefined\") {require([\"nbextensions/vpython_libraries/glow.min\"], function(){console.log(\"GLOW LOADED\");});}else{element.textContent = ' ';}"
      ],
      "text/plain": [
       "<IPython.core.display.Javascript object>"
      ]
     },
     "metadata": {},
     "output_type": "display_data"
    },
    {
     "data": {
      "application/javascript": [
       "if (typeof Jupyter !== \"undefined\") {require([\"nbextensions/vpython_libraries/glowcomm\"], function(){console.log(\"GLOWCOMM LOADED\");});}else{element.textContent = ' ';}"
      ],
      "text/plain": [
       "<IPython.core.display.Javascript object>"
      ]
     },
     "metadata": {},
     "output_type": "display_data"
    },
    {
     "data": {
      "application/javascript": [
       "if (typeof Jupyter !== \"undefined\") {require([\"nbextensions/vpython_libraries/jquery-ui.custom.min\"], function(){console.log(\"JQUERY LOADED\");});}else{element.textContent = ' ';}"
      ],
      "text/plain": [
       "<IPython.core.display.Javascript object>"
      ]
     },
     "metadata": {},
     "output_type": "display_data"
    }
   ],
   "source": [
    "polfilt = box(pos = vector(6,0,0),\n",
    "              size = vector(0.1,4,4))\n",
    "E = []                                              #7.1\n",
    "B = []\n",
    "R = []\n",
    "for y in range(0,Z):                                #8.6,8.2,8.1\n",
    "    if y < 60:\n",
    "        tcompE = arrow(pos = vector((y/Z)*w,0,0), \n",
    "                      axis = vector(0,1,0),\n",
    "                      color = color.red)\n",
    "        tcompB = arrow(pos = vector((y/Z)*w,0,0), \n",
    "                      axis = vector(0,0,1),\n",
    "                      color = color.blue)\n",
    "        tcompR = arrow(pos = vector((y/Z)*w,0,0), \n",
    "                      axis = vector(0,sqrt(2)/2,sqrt(2)/2),\n",
    "                      color = color.magenta)\n",
    "        E.append(tcompE)                                 #7.2\n",
    "        B.append(tcompB)\n",
    "        R.append(tcompR)\n",
    "    else:\n",
    "        tcompE = arrow(pos = vector((y/Z)*w,0,0), \n",
    "                  axis = vector(0,1,0),\n",
    "                  color = color.red)\n",
    "        E.append(tcompE)   "
   ]
  },
  {
   "cell_type": "markdown",
   "metadata": {},
   "source": [
    "polfilt is the polarization filter, mideled as a thin box. Three empty lists are used to hold electric, magnetic and resultant field vector components. The components are defined for each field in the next if statement from 0-60, where the wave will travel before hitting the polarization filter. Each component has a position defined in the x direction that assigns vector arrows to 100 positions equally spaced along the x-axis. Axes are defined for each component, E in the y direction, B in the z direction, and R in between the y and z. The end of the if statement is serving to assign only the electric field components to positions past 60, where the wave gets polarized. "
   ]
  },
  {
   "cell_type": "code",
   "execution_count": null,
   "metadata": {},
   "outputs": [],
   "source": [
    "def Psi(x,t):                                    #6.1\n",
    "    psi = sin(Om*x - k*t)\n",
    "    return psi\n",
    "\"\"\"                                             #6.4\n",
    "This is my wave formula function, inputs 2 variables and outputs a wave\n",
    "\"\"\"\n",
    "while t < 100:                                 #8.3\n",
    "    rate(80)\n",
    "    for i in range(0,60):                        #8.9,\n",
    "        twave = Psi((i/100)*w,t)\n",
    "        E[i].axis = vector(0,twave,0)              #7.5\n",
    "        B[i].axis = vector(0,0,twave)              #8.7,7.3\n",
    "        R[i].axis = vector(0,twave,twave)          #3.6\n",
    "    for p in E:                                    #7.4\n",
    "        for i in range(len(E)):                    #7.6\n",
    "            if i < 40:\n",
    "                twave = Psi(((i+60)/100)*w,t)\n",
    "                E[(i+60)].axis = vector(0,twave,0)\n",
    "        \n",
    "    t = t + dt\n",
    "       "
   ]
  },
  {
   "cell_type": "markdown",
   "metadata": {},
   "source": [
    "The wave equation psi is a traveling wave with two variables, x and t. The next while loop is defining a new variable to be placed in the Psi function using the same method as before. Referring to the appended lists, instead of y it is now i and the axis for vector components for each field are defined by placing the twave function containing the i variable into the vector axis. This block serves to actually get the arrows to oscillate according to the wave equation and in which direction. This method was very convenient because I easy appended 100 vector components and got them to oscillate using just open lists and for loops."
   ]
  }
 ],
 "metadata": {
  "kernelspec": {
   "display_name": "Python 3",
   "language": "python",
   "name": "python3"
  },
  "language_info": {
   "codemirror_mode": {
    "name": "ipython",
    "version": 3
   },
   "file_extension": ".py",
   "mimetype": "text/x-python",
   "name": "python",
   "nbconvert_exporter": "python",
   "pygments_lexer": "ipython3",
   "version": "3.7.3"
  }
 },
 "nbformat": 4,
 "nbformat_minor": 2
}
