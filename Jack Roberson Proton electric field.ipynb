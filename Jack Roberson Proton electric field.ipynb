{
 "cells": [
  {
   "cell_type": "code",
   "execution_count": 1,
   "metadata": {},
   "outputs": [
    {
     "data": {
      "text/html": [
       "<div id=\"glowscript\" class=\"glowscript\"></div>"
      ],
      "text/plain": [
       "<IPython.core.display.HTML object>"
      ]
     },
     "metadata": {},
     "output_type": "display_data"
    },
    {
     "data": {
      "application/javascript": [
       "if (typeof Jupyter !== \"undefined\") { window.__context = { glowscript_container: $(\"#glowscript\").removeAttr(\"id\")};}else{ element.textContent = ' ';}"
      ],
      "text/plain": [
       "<IPython.core.display.Javascript object>"
      ]
     },
     "metadata": {},
     "output_type": "display_data"
    }
   ],
   "source": [
    "from vpython import *"
   ]
  },
  {
   "cell_type": "code",
   "execution_count": null,
   "metadata": {},
   "outputs": [],
   "source": [
    "marker = sphere(pos=vector(R*cos(0), R*sin(0),0) radius=1e-15)"
   ]
  },
  {
   "cell_type": "code",
   "execution_count": 7,
   "metadata": {},
   "outputs": [],
   "source": [
    "# fundamental constants\n",
    "\n",
    "e = 1.6e-19 # coulombs\n",
    "oofpez = 9e9 # Nm^2/C^2\n",
    "scale_factor = 8e-35"
   ]
  },
  {
   "cell_type": "code",
   "execution_count": 14,
   "metadata": {},
   "outputs": [],
   "source": [
    "charge_set = []\n",
    "proton = sphere(pos=vector(0,0,0),\n",
    "               radius = 1e-15,\n",
    "               q = +e,\n",
    "               color = color.red)\n",
    "charge_set.append(proton)"
   ]
  },
  {
   "cell_type": "code",
   "execution_count": 17,
   "metadata": {},
   "outputs": [],
   "source": [
    "R = 5e-15\n",
    "while R<11e-5:\n",
    "    theta = 0\n",
    "    dtheta = pi/6\n",
    "    while theta<2.5*pi:\n",
    "        rate(200)\n",
    "        obs_loc = vector(R*cos(theta), R*sin(theta),0)\n",
    "        Enet = vector(0,0,0)\n",
    "        for particle in charge_set:\n",
    "            \n",
    "            r = obs_loc - proton.pos\n",
    "            rhat = r/mag(r)\n",
    "            E = oofpez*proton.q*rhat/mag(r)**2\n",
    "            Enet = Enet + E\n",
    "    \n",
    "            E_arrow = arrow(pos=obs_loc,\n",
    "                   axis = E*scale_factor,\n",
    "                   color = color.magenta)\n",
    "    \n",
    "            theta = theta + dtheta\n",
    "    R=R*2"
   ]
  },
  {
   "cell_type": "code",
   "execution_count": 16,
   "metadata": {},
   "outputs": [
    {
     "name": "stdout",
     "output_type": "stream",
     "text": [
      "0.0008803129168251592\n"
     ]
    }
   ],
   "source": [
    "print(R/mag(E))"
   ]
  },
  {
   "cell_type": "code",
   "execution_count": null,
   "metadata": {},
   "outputs": [],
   "source": [
    "%reset"
   ]
  },
  {
   "cell_type": "code",
   "execution_count": null,
   "metadata": {},
   "outputs": [],
   "source": [
    "from vpython import *"
   ]
  },
  {
   "cell_type": "code",
   "execution_count": null,
   "metadata": {},
   "outputs": [],
   "source": [
    "# fundamental constants\n",
    "\n",
    "e = 1.6e-19 # coulombs\n",
    "oofpez = 9e9 # Nm^2/C^2\n",
    "scale_factor = 8e-35"
   ]
  },
  {
   "cell_type": "code",
   "execution_count": null,
   "metadata": {},
   "outputs": [],
   "source": [
    "proton = sphere(pos=vector(0,0,0),\n",
    "               radius = 1e-15,\n",
    "               q = +e,\n",
    "               color = color.red)\n",
    "anti_proton = sphere(pos=vector(-1,0,0),\n",
    "                    radius = 1e-15,\n",
    "                    q = -e,\n",
    "                    color = color.blue)"
   ]
  },
  {
   "cell_type": "code",
   "execution_count": null,
   "metadata": {},
   "outputs": [],
   "source": [
    "R = 5e-15\n",
    "while R<11e-5:\n",
    "    theta = 0\n",
    "    dtheta = pi/6\n",
    "    while theta<2.5*pi:\n",
    "        rate(200)\n",
    "        obs_loc = vector(R*cos(theta), R*sin(theta),0)\n",
    "        Enet = vector(0,0,0)\n",
    "        for particle in charge_set:\n",
    "            \n",
    "            r = obs_loc - proton.pos\n",
    "            rhat = r/mag(r)\n",
    "            E = oofpez*proton.q*rhat/mag(r)**2\n",
    "            Enet = Enet + E\n",
    "    \n",
    "            E_arrow = arrow(pos=obs_loc,\n",
    "                   axis = E*scale_factor,\n",
    "                   color = color.magenta)\n",
    "    \n",
    "            theta = theta + dtheta\n",
    "    R=R*2"
   ]
  },
  {
   "cell_type": "code",
   "execution_count": null,
   "metadata": {},
   "outputs": [],
   "source": []
  }
 ],
 "metadata": {
  "kernelspec": {
   "display_name": "Python 3",
   "language": "python",
   "name": "python3"
  },
  "language_info": {
   "codemirror_mode": {
    "name": "ipython",
    "version": 3
   },
   "file_extension": ".py",
   "mimetype": "text/x-python",
   "name": "python",
   "nbconvert_exporter": "python",
   "pygments_lexer": "ipython3",
   "version": "3.7.3"
  }
 },
 "nbformat": 4,
 "nbformat_minor": 2
}
